{
 "cells": [
  {
   "cell_type": "code",
   "execution_count": 1,
   "metadata": {},
   "outputs": [],
   "source": [
    "import numpy as np\n",
    "#from matplotlib import pyplot\n",
    "from matplotlib import pyplot as plt\n",
    "%matplotlib inline"
   ]
  },
  {
   "cell_type": "code",
   "execution_count": 2,
   "metadata": {},
   "outputs": [],
   "source": [
    "from matplotlib import animation\n",
    "from IPython.display import HTML"
   ]
  },
  {
   "cell_type": "code",
   "execution_count": 3,
   "metadata": {},
   "outputs": [],
   "source": [
    "# Set the font family and size to use for Matplotlib figures.\n",
    "plt.rcParams['font.family'] = 'serif'\n",
    "plt.rcParams['font.size'] = 12"
   ]
  },
  {
   "cell_type": "code",
   "execution_count": 4,
   "metadata": {},
   "outputs": [],
   "source": [
    "def update_plot(n, T):\n",
    "    \"\"\"\n",
    "    Update the line y-data of the Matplotlib figure.\n",
    "    \n",
    "    Parameters\n",
    "    ----------\n",
    "    n : integer\n",
    "        The time-step index.\n",
    "    T[n] : list of numpy.ndarray objects\n",
    "        The history of the numerical solution.\n",
    "    \"\"\"\n",
    "    fig.suptitle('Time step {:0>2} \\n'.format(n),y=0.96)\n",
    "    line.set_ydata(T[n])"
   ]
  },
  {
   "cell_type": "code",
   "execution_count": 5,
   "metadata": {},
   "outputs": [],
   "source": [
    "# Define the rod properties\n",
    "L_total = 0.09  # Total length of the rod (m)\n",
    "nx = 51  # Total number of spatial points\n",
    "dx = L_total / (nx - 1)  # Spatial step size\n",
    "\n",
    "# Define material regions\n",
    "L_material1 = 0.07\n",
    "  # Length of first material\n",
    "nx1 = int(nx * (L_material1 / L_total))  # Number of points in material 1\n",
    "nx2 = nx - nx1  # Number of points in material 2"
   ]
  },
  {
   "cell_type": "markdown",
   "metadata": {},
   "source": [
    "materials = [\n",
    "    {'rho': 1490, 'k': lambda T: 1.148 + 0.0005315 * (T - 293), 'Cp': lambda T: 753.622+1.55*(T-293)-0.001403*(T-293)**2},\n",
    "    {'rho': 200, 'k': lambda T: 0.031675-6.80767e-5*(T-293)+3.007e-7*(T-293)**2, 'Cp': lambda T: 840},\n",
    "]"
   ]
  },
  {
   "cell_type": "markdown",
   "metadata": {},
   "source": [
    "# Define temperature-dependent material properties\n",
    "def k_func(T, region):\n",
    "    \"\"\"Thermal conductivity as a function of temperature.\"\"\"\n",
    "    if region == 1:  # Refractory brick\n",
    "        return 1.0 + 0.0005 * (T - 300)  # Small increase with temperature\n",
    "    else:  # Ceramic insulating wool\n",
    "        return 0.05 + 0.0001 * (T - 300)  # Small increase with temperature\n",
    "\n",
    "def rho_func(T, region):\n",
    "    \"\"\"Density as a function of temperature.\"\"\"\n",
    "    if region == 1:  # Refractory brick\n",
    "        return 2200 -0.0001*(T-300)  # Constant\n",
    "    else:  # Ceramic wool\n",
    "        return 300 - 0.02 * (T - 300)  # Slight decrease with temperature\n",
    "\n",
    "def Cp_func(T, region):\n",
    "    \"\"\"Specific heat capacity as a function of temperature.\"\"\"\n",
    "    if region == 1:  # Refractory brick\n",
    "        return 1000 + 0.2 * (T - 300)  # Increase with temperature\n",
    "    else:  # Ceramic wool\n",
    "        return 1200 + 0.3 * (T - 300)  # Increase with temperature"
   ]
  },
  {
   "cell_type": "code",
   "execution_count": 6,
   "metadata": {},
   "outputs": [],
   "source": [
    "# Define temperature-dependent material properties (example functions)\n",
    "def k_func(T, region):\n",
    "    \"\"\"Thermal conductivity as a function of temperature for each material.\"\"\"\n",
    "    if region == 1:\n",
    "        return 0.6 + 0.0005315 * (T - 293)  # Example: increases slightly with T\n",
    "    else:\n",
    "        return 0.00000025*(T-293)**2+0.00011*(T-293)+0.044\n",
    "        #return 0.031675-6.80767e-5*(T-293)+3.007e-7*(T-293)**2  # Different response for material 2\n",
    "\n",
    "def rho_func(T, region):\n",
    "    \"\"\"Density as a function of temperature for each material.\"\"\"\n",
    "    if region == 1:\n",
    "        return 1490 - 0.01 * (T - 293)  # Example: decreases slightly with T\n",
    "    else:\n",
    "        return 200 - 0.005 * (T - 293)  # Different response for material 2\n",
    "\n",
    "def Cp_func(T, region):\n",
    "    \"\"\"Specific heat capacity as a function of temperature for each material.\"\"\"\n",
    "    if region == 1:\n",
    "        return 753.622+1.55*(T-293)-0.001403*(T-293)**2  # Example: increases slightly with T\n",
    "    else:\n",
    "        #return 850 - 10 * (T - 293)  # Different response for material 2\n",
    "        return 850  # Different response for material 2"
   ]
  },
  {
   "cell_type": "code",
   "execution_count": 7,
   "metadata": {},
   "outputs": [],
   "source": [
    "# Set initial temperature distribution\n",
    "T0 = np.zeros(nx)\n",
    "T0[:] = 293  # Initial uniform temperature\n",
    "Tinf = 293  # Ambient temperature\n",
    "#T0[0]=800+273.15\n",
    "A = 0.1914  # Surface area\n",
    "h = 10  # Convective heat transfer coefficient\n",
    "boltzmann = 5.6704E-08  # Stefan-Boltzmann constant\n",
    "Qdot_in = 2500  # Heat input"
   ]
  },
  {
   "cell_type": "code",
   "execution_count": 8,
   "metadata": {},
   "outputs": [],
   "source": [
    "def ftcs_multi_material(T0, nt, dx):\n",
    "    \"\"\"\n",
    "    Solves the transient heat equation with temperature-dependent properties \n",
    "    and multiple materials.\n",
    "    \n",
    "    Parameters\n",
    "    ----------\n",
    "    T0 : numpy.ndarray\n",
    "        Initial temperature distribution.\n",
    "    nt : int\n",
    "        Number of time steps.\n",
    "    dx : float\n",
    "        Spatial step size.\n",
    "    \n",
    "    Returns\n",
    "    -------\n",
    "    T_hist : list\n",
    "        Temperature distribution history.\n",
    "    \"\"\"\n",
    "    T = T0.copy()\n",
    "    T_hist = [T0.copy()]\n",
    "\n",
    "    for n in range(nt):\n",
    "        T_new = T.copy()\n",
    "\n",
    "        # Update material properties at each spatial point\n",
    "        k_vals = np.array([k_func(T[i], 1) if i < nx1 else k_func(T[i], 2) for i in range(nx)])\n",
    "        rho_vals = np.array([rho_func(T[i], 1) if i < nx1 else rho_func(T[i], 2) for i in range(nx)])\n",
    "        Cp_vals = np.array([Cp_func(T[i], 1) if i < nx1 else Cp_func(T[i], 2) for i in range(nx)])\n",
    "        alpha_vals = k_vals / (rho_vals * Cp_vals)\n",
    "\n",
    "        # Compute stable time step dynamically\n",
    "        dt = min(0.5 * dx**2 / max(alpha_vals), 1.0)\n",
    "\n",
    "        # Update temperature for interior points\n",
    "        for i in range(1, nx - 1):\n",
    "            sigma = alpha_vals[i] * dt / dx**2\n",
    "\n",
    "            # Handle interface continuity (material junction at nx1)\n",
    "            if i == nx1:\n",
    "                k_left, k_right = k_vals[i - 1], k_vals[i]\n",
    "                T_left, T_right = T[i - 1], T[i + 1]\n",
    "\n",
    "                # Compute flux continuity\n",
    "                T_new[i] = (k_right * T_left + k_left * T_right) / (k_left + k_right)\n",
    "            else:\n",
    "                T_new[i] = T[i] + sigma * (T[i + 1] - 2 * T[i] + T[i - 1])\n",
    "\n",
    "        # Boundary conditions\n",
    "        Qdot_out = boltzmann * A * (T[-1]**4 - Tinf**4) + h * A * (T[-1] - Tinf)\n",
    "        heatfac = dx / (k_vals[0] * A)\n",
    "\n",
    "        \n",
    "        T_new[0] += (alpha_vals[0] * dt / dx**2) * (T[1] - T[0] + heatfac * Qdot_in)\n",
    "        #T_new[0] = T[0]\n",
    "        T_new[-1] += (alpha_vals[-1] * dt / dx**2) * (T[-2] - T[-1] - heatfac * Qdot_out)\n",
    "        \n",
    "        T = T_new.copy()\n",
    "        T_hist.append(T.copy())\n",
    "\n",
    "    return T_hist"
   ]
  },
  {
   "cell_type": "code",
   "execution_count": null,
   "metadata": {},
   "outputs": [],
   "source": [
    "# Set simulation parameters\n",
    "sigma = 0.5  # CFL condition safety factor\n",
    "dt_initial = sigma * dx**2 / (max(k_func(T0, 1)) / (min(rho_func(T0, 1)) * min(Cp_func(T0, 1))))\n",
    "dt = min(dt_initial, 1.0)  # Ensure stability\n",
    "Tfinal = 10 * 3600  # Simulate for 6 hours\n",
    "nt = int(Tfinal / dt)  # Number of time steps\n",
    "\n",
    "# Run simulation\n",
    "T = ftcs_multi_material(T0, nt, dx)"
   ]
  },
  {
   "cell_type": "code",
   "execution_count": null,
   "metadata": {},
   "outputs": [],
   "source": [
    "Taa=np.array(T)"
   ]
  },
  {
   "cell_type": "code",
   "execution_count": null,
   "metadata": {},
   "outputs": [],
   "source": [
    "Taa"
   ]
  },
  {
   "cell_type": "code",
   "execution_count": null,
   "metadata": {},
   "outputs": [],
   "source": [
    "# Plot final temperature distribution\n",
    "fig = plt.figure(figsize=(8, 6.0))\n",
    "plt.xlabel('Distance [m]')\n",
    "plt.ylabel('Temperature [K]')\n",
    "plt.grid()\n",
    "line = plt.plot(np.linspace(0.0, L_total, num=nx), T[-1], color='C0', linestyle='-', linewidth=2)\n",
    "plt.axvline(x=L_material1, color='red', linestyle='--', label=\"Material Interface\")  # Mark the interface\n",
    "plt.ylim(0.0, T[-1][0] + 50)\n",
    "plt.legend()\n",
    "plt.tight_layout()\n",
    "plt.show()\n"
   ]
  },
  {
   "cell_type": "code",
   "execution_count": null,
   "metadata": {},
   "outputs": [],
   "source": [
    "# Plot the initial traffic density.\n",
    "fig = plt.figure(figsize=(8, 6.0))\n",
    "plt.xlabel('Distance [m]')\n",
    "plt.ylabel('Temperature [K]')\n",
    "plt.title('\\n')\n",
    "plt.grid()\n",
    "line = plt.plot(np.linspace(0.0, L_total, num=nx), T[-1],\n",
    "                   color='C0', linestyle='-', linewidth=2)[0]\n",
    "#pyplot.xlim(0.0, L)\n",
    "plt.ylim(0.0, T[-1][0]+50)\n",
    "plt.tight_layout()"
   ]
  },
  {
   "cell_type": "code",
   "execution_count": null,
   "metadata": {},
   "outputs": [],
   "source": [
    "T[-1][0]"
   ]
  },
  {
   "cell_type": "code",
   "execution_count": null,
   "metadata": {},
   "outputs": [],
   "source": [
    "T[-1][-1]"
   ]
  },
  {
   "cell_type": "code",
   "execution_count": null,
   "metadata": {},
   "outputs": [],
   "source": [
    "T[-1][0]-273.15"
   ]
  },
  {
   "cell_type": "code",
   "execution_count": null,
   "metadata": {},
   "outputs": [],
   "source": [
    "T[-1][-1]-273.15"
   ]
  },
  {
   "cell_type": "code",
   "execution_count": null,
   "metadata": {},
   "outputs": [],
   "source": [
    "# Extract the first number of each subarray\n",
    "first_elements = [subarray[0] for subarray in T]\n",
    "\n",
    "# Print extracted elements for verification\n",
    "#print(\"First elements of each subarray:\", first_elements)\n",
    "time = (np.linspace(0,nt*dt,nt+1))/3600\n",
    "# Plotting the values\n",
    "plt.plot(time,first_elements, linestyle='-')\n",
    "\n",
    "plt.xlabel('time[h]')\n",
    "plt.ylabel('Tint [K]')\n",
    "plt.title('Temperature inside the Kiln vs Time')\n",
    "plt.grid(True)\n",
    "plt.show()"
   ]
  },
  {
   "cell_type": "code",
   "execution_count": null,
   "metadata": {},
   "outputs": [],
   "source": [
    "last_elements = [subarray[-1] for subarray in T]\n",
    "\n",
    "plt.plot(time,last_elements, linestyle='-',c='r')\n",
    "plt.xlabel('time[h]')\n",
    "plt.ylabel('Tint [K]')\n",
    "plt.title('Temperature exterior of the Kiln vs Time')\n",
    "plt.grid(True)\n",
    "plt.show()"
   ]
  },
  {
   "cell_type": "code",
   "execution_count": null,
   "metadata": {},
   "outputs": [],
   "source": [
    "# Create an animation of the traffic density.\n",
    "anim = animation.FuncAnimation(fig, update_plot,\n",
    "                               frames=len(T[::500]), fargs=(T[::500],),\n",
    "                               interval=100)\n",
    "# Display the video.\n",
    "HTML(anim.to_html5_video())"
   ]
  },
  {
   "cell_type": "markdown",
   "metadata": {},
   "source": [
    "# To save the animation using Pillow as a gif\n",
    "writer = animation.PillowWriter(fps=15,\n",
    "                                 metadata=dict(artist='AndresMenes'),\n",
    "                                bitrate=1800)\n",
    "anim.save('temperature_explicit_kiln.gif', writer=writer)"
   ]
  },
  {
   "cell_type": "code",
   "execution_count": null,
   "metadata": {},
   "outputs": [],
   "source": []
  }
 ],
 "metadata": {
  "kernelspec": {
   "display_name": "Python 3 (ipykernel)",
   "language": "python",
   "name": "python3"
  },
  "language_info": {
   "codemirror_mode": {
    "name": "ipython",
    "version": 3
   },
   "file_extension": ".py",
   "mimetype": "text/x-python",
   "name": "python",
   "nbconvert_exporter": "python",
   "pygments_lexer": "ipython3",
   "version": "3.10.14"
  }
 },
 "nbformat": 4,
 "nbformat_minor": 4
}
